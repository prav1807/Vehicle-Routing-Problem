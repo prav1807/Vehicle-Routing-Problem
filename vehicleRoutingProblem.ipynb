{
  "nbformat": 4,
  "nbformat_minor": 0,
  "metadata": {
    "colab": {
      "provenance": [],
      "authorship_tag": "ABX9TyPgOcnakHS+F5DmXU2bDGfy",
      "include_colab_link": true
    },
    "kernelspec": {
      "name": "python3",
      "display_name": "Python 3"
    },
    "language_info": {
      "name": "python"
    }
  },
  "cells": [
    {
      "cell_type": "markdown",
      "metadata": {
        "id": "view-in-github",
        "colab_type": "text"
      },
      "source": [
        "<a href=\"https://colab.research.google.com/github/prav1807/Vehicle-Routing-Problem/blob/main/vehicleRoutingProblem.ipynb\" target=\"_parent\"><img src=\"https://colab.research.google.com/assets/colab-badge.svg\" alt=\"Open In Colab\"/></a>"
      ]
    },
    {
      "cell_type": "markdown",
      "source": [
        "**Implementing Ant Colony Algorithm for Capacitated Vehicle Routing Problem**"
      ],
      "metadata": {
        "id": "Dbgv0Bx6TNNh"
      }
    },
    {
      "cell_type": "code",
      "execution_count": null,
      "metadata": {
        "id": "VDqu6m8OTLt0"
      },
      "outputs": [],
      "source": [
        "# Import libraries ...\n",
        "import numpy as np\n",
        "import random"
      ]
    },
    {
      "cell_type": "code",
      "source": [
        "''' Defining Problem Parameters '''\n",
        "\n",
        "# Distance matrix (example between 4 customers and 1 depot)\n",
        "distance_matrix = np.array([\n",
        "    [0, 29, 20, 21],\n",
        "    [29, 0, 15, 17],\n",
        "    [20, 15, 0, 28],\n",
        "    [21, 17, 28, 0]\n",
        "])\n",
        "\n",
        "# Customer demands\n",
        "demands = [0, 10, 15, 20]  # depot has demand 0\n",
        "\n",
        "# Vehicle capacity\n",
        "vehicle_capacity = 30\n",
        "\n",
        "# Number of vehicles\n",
        "num_vehicles = 2\n",
        "\n",
        "# Depot index\n",
        "depot = 0\n"
      ],
      "metadata": {
        "id": "7emhI5-GTdiI"
      },
      "execution_count": null,
      "outputs": []
    },
    {
      "cell_type": "code",
      "source": [
        "''' Ant Colony Parameters '''\n",
        "\n",
        "# ACO Parameters\n",
        "num_ants = 10         # Number of ants (solutions) per iteration\n",
        "num_iterations = 100  # Number of iterations\n",
        "alpha = 1.0           # Influence of pheromone (how much ants are attracted to pheromone trails)\n",
        "beta = 5.0            # Influence of distance (how much ants are attracted to shorter paths)\n",
        "evaporation_rate = 0.5  # Pheromone evaporation rate\n",
        "pheromone_constant = 100  # Pheromone constant added after each iteration\n",
        "\n",
        "# Initialize pheromone matrix\n",
        "num_customers = len(demands)\n",
        "pheromone_matrix = np.ones((num_customers, num_customers))  # Initially equal pheromone on all edges\n"
      ],
      "metadata": {
        "id": "iOT9RecSUfS5"
      },
      "execution_count": null,
      "outputs": []
    },
    {
      "cell_type": "code",
      "source": [
        "''' Ant Tour Construstion\n",
        "Ant will construct a solution by selecting the next customer to visit based on pheromone level,\n",
        "and the distance between customers '''\n",
        "\n",
        "def probability_of_next_node(pheromone, distance, alpha, beta):\n",
        "    # Calculate the probability of selecting the next node based on pheromone and distance\n",
        "    return (pheromone ** alpha) * ((1.0 / distance) ** beta)\n",
        "\n",
        "def construct_solution(pheromone_matrix, distance_matrix, demands, vehicle_capacity):\n",
        "    route = [depot]  # Start at depot\n",
        "    vehicle_load = 0\n",
        "    visited = set([depot])\n",
        "\n",
        "    while len(visited) < num_customers:\n",
        "        current_node = route[-1]\n",
        "        probabilities = []\n",
        "        for customer in range(num_customers):\n",
        "            if customer not in visited and vehicle_load + demands[customer] <= vehicle_capacity:\n",
        "                prob = probability_of_next_node(pheromone_matrix[current_node][customer], distance_matrix[current_node][customer], alpha, beta)\n",
        "                probabilities.append((customer, prob))\n",
        "\n",
        "        # Choose next customer based on the calculated probabilities\n",
        "        if probabilities:\n",
        "            next_node = random.choices([p[0] for p in probabilities], [p[1] for p in probabilities])[0]\n",
        "            route.append(next_node)\n",
        "            vehicle_load += demands[next_node]\n",
        "            visited.add(next_node)\n",
        "        else:\n",
        "            # If no valid next node, return to depot\n",
        "            route.append(depot)\n",
        "            break\n",
        "\n",
        "    route.append(depot)  # Return to depot\n",
        "    return route\n"
      ],
      "metadata": {
        "id": "T2YqhJ-BUjkI"
      },
      "execution_count": null,
      "outputs": []
    },
    {
      "cell_type": "code",
      "source": [
        "''' Update Pheromones\n",
        "Pheromones are updated based on the quality of the solutions (routes). Good routes get more pheromone, while poor routes get less.'''\n",
        "\n",
        "def update_pheromones(pheromone_matrix, ants_solutions, distance_matrix, evaporation_rate, pheromone_constant):\n",
        "    # Evaporate pheromones\n",
        "    pheromone_matrix *= (1 - evaporation_rate)\n",
        "\n",
        "    # Add new pheromones based on ant solutions\n",
        "    for route in ants_solutions:\n",
        "        route_length = calculate_route_length(route, distance_matrix)\n",
        "        pheromone_deposit = pheromone_constant / route_length\n",
        "\n",
        "        for i in range(len(route) - 1):\n",
        "            pheromone_matrix[route[i]][route[i+1]] += pheromone_deposit\n",
        "            pheromone_matrix[route[i+1]][route[i]] += pheromone_deposit  # Symmetric matrix\n",
        "\n",
        "def calculate_route_length(route, distance_matrix):\n",
        "    return sum(distance_matrix[route[i]][route[i+1]] for i in range(len(route) - 1))\n"
      ],
      "metadata": {
        "id": "s0_DqRMnU4fg"
      },
      "execution_count": null,
      "outputs": []
    },
    {
      "cell_type": "code",
      "source": [
        "''' Ant Colony Algorithm\n",
        "Now, we can run the ACO algorithm for the specified number of iterations. Each iteration involves ants constructing solutions and updating the pheromone matrix.\n",
        "'''\n",
        "\n",
        "best_route = None\n",
        "best_route_length = float('inf')\n",
        "\n",
        "for iteration in range(num_iterations):\n",
        "    ants_solutions = []\n",
        "\n",
        "    # Each ant constructs a solution\n",
        "    for _ in range(num_ants):\n",
        "        solution = construct_solution(pheromone_matrix, distance_matrix, demands, vehicle_capacity)\n",
        "        ants_solutions.append(solution)\n",
        "\n",
        "        route_length = calculate_route_length(solution, distance_matrix)\n",
        "        if route_length < best_route_length:\n",
        "            best_route = solution\n",
        "            best_route_length = route_length\n",
        "\n",
        "    # Update pheromones\n",
        "    update_pheromones(pheromone_matrix, ants_solutions, distance_matrix, evaporation_rate, pheromone_constant)\n",
        "\n",
        "    print(f\"Iteration {iteration+1}, Best route length: {best_route_length}\")\n",
        "\n",
        "# Output the best route found\n",
        "print(f\"Best route found: {best_route} with length {best_route_length}\")\n",
        "\n",
        "\n"
      ],
      "metadata": {
        "colab": {
          "base_uri": "https://localhost:8080/"
        },
        "id": "XNIeHQvPVCUY",
        "outputId": "43f253d9-14ab-4fbb-db82-087705d062a6"
      },
      "execution_count": null,
      "outputs": [
        {
          "output_type": "stream",
          "name": "stdout",
          "text": [
            "Iteration 1, Best route length: 64\n",
            "Iteration 2, Best route length: 64\n",
            "Iteration 3, Best route length: 64\n",
            "Iteration 4, Best route length: 64\n",
            "Iteration 5, Best route length: 64\n",
            "Iteration 6, Best route length: 64\n",
            "Iteration 7, Best route length: 64\n",
            "Iteration 8, Best route length: 64\n",
            "Iteration 9, Best route length: 64\n",
            "Iteration 10, Best route length: 64\n",
            "Iteration 11, Best route length: 64\n",
            "Iteration 12, Best route length: 64\n",
            "Iteration 13, Best route length: 64\n",
            "Iteration 14, Best route length: 64\n",
            "Iteration 15, Best route length: 64\n",
            "Iteration 16, Best route length: 64\n",
            "Iteration 17, Best route length: 64\n",
            "Iteration 18, Best route length: 64\n",
            "Iteration 19, Best route length: 64\n",
            "Iteration 20, Best route length: 64\n",
            "Iteration 21, Best route length: 64\n",
            "Iteration 22, Best route length: 64\n",
            "Iteration 23, Best route length: 64\n",
            "Iteration 24, Best route length: 64\n",
            "Iteration 25, Best route length: 64\n",
            "Iteration 26, Best route length: 64\n",
            "Iteration 27, Best route length: 64\n",
            "Iteration 28, Best route length: 64\n",
            "Iteration 29, Best route length: 64\n",
            "Iteration 30, Best route length: 64\n",
            "Iteration 31, Best route length: 64\n",
            "Iteration 32, Best route length: 64\n",
            "Iteration 33, Best route length: 64\n",
            "Iteration 34, Best route length: 64\n",
            "Iteration 35, Best route length: 64\n",
            "Iteration 36, Best route length: 64\n",
            "Iteration 37, Best route length: 64\n",
            "Iteration 38, Best route length: 64\n",
            "Iteration 39, Best route length: 64\n",
            "Iteration 40, Best route length: 64\n",
            "Iteration 41, Best route length: 64\n",
            "Iteration 42, Best route length: 64\n",
            "Iteration 43, Best route length: 64\n",
            "Iteration 44, Best route length: 64\n",
            "Iteration 45, Best route length: 64\n",
            "Iteration 46, Best route length: 64\n",
            "Iteration 47, Best route length: 64\n",
            "Iteration 48, Best route length: 64\n",
            "Iteration 49, Best route length: 64\n",
            "Iteration 50, Best route length: 64\n",
            "Iteration 51, Best route length: 64\n",
            "Iteration 52, Best route length: 64\n",
            "Iteration 53, Best route length: 64\n",
            "Iteration 54, Best route length: 64\n",
            "Iteration 55, Best route length: 64\n",
            "Iteration 56, Best route length: 64\n",
            "Iteration 57, Best route length: 64\n",
            "Iteration 58, Best route length: 64\n",
            "Iteration 59, Best route length: 64\n",
            "Iteration 60, Best route length: 64\n",
            "Iteration 61, Best route length: 64\n",
            "Iteration 62, Best route length: 64\n",
            "Iteration 63, Best route length: 64\n",
            "Iteration 64, Best route length: 64\n",
            "Iteration 65, Best route length: 64\n",
            "Iteration 66, Best route length: 64\n",
            "Iteration 67, Best route length: 64\n",
            "Iteration 68, Best route length: 64\n",
            "Iteration 69, Best route length: 64\n",
            "Iteration 70, Best route length: 64\n",
            "Iteration 71, Best route length: 64\n",
            "Iteration 72, Best route length: 64\n",
            "Iteration 73, Best route length: 64\n",
            "Iteration 74, Best route length: 64\n",
            "Iteration 75, Best route length: 64\n",
            "Iteration 76, Best route length: 64\n",
            "Iteration 77, Best route length: 64\n",
            "Iteration 78, Best route length: 64\n",
            "Iteration 79, Best route length: 64\n",
            "Iteration 80, Best route length: 64\n",
            "Iteration 81, Best route length: 64\n",
            "Iteration 82, Best route length: 64\n",
            "Iteration 83, Best route length: 64\n",
            "Iteration 84, Best route length: 64\n",
            "Iteration 85, Best route length: 64\n",
            "Iteration 86, Best route length: 64\n",
            "Iteration 87, Best route length: 64\n",
            "Iteration 88, Best route length: 64\n",
            "Iteration 89, Best route length: 64\n",
            "Iteration 90, Best route length: 64\n",
            "Iteration 91, Best route length: 64\n",
            "Iteration 92, Best route length: 64\n",
            "Iteration 93, Best route length: 64\n",
            "Iteration 94, Best route length: 64\n",
            "Iteration 95, Best route length: 64\n",
            "Iteration 96, Best route length: 64\n",
            "Iteration 97, Best route length: 64\n",
            "Iteration 98, Best route length: 64\n",
            "Iteration 99, Best route length: 64\n",
            "Iteration 100, Best route length: 64\n",
            "Best route found: [0, 1, 2, 0, 0] with length 64\n"
          ]
        }
      ]
    }
  ]
}